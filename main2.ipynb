{
 "cells": [
  {
   "cell_type": "code",
   "execution_count": 5,
   "metadata": {},
   "outputs": [
    {
     "name": "stdout",
     "output_type": "stream",
     "text": [
      "content='\"가는 말이 고와야 오는 말도 곱다.\"' response_metadata={'token_usage': {'completion_tokens': 19, 'prompt_tokens': 26, 'total_tokens': 45}, 'model_name': 'gpt-4', 'system_fingerprint': None, 'finish_reason': 'stop', 'logprobs': None} id='run-cb8cfb0e-cd84-44a9-ae59-6f0166d20619-0' usage_metadata={'input_tokens': 26, 'output_tokens': 19, 'total_tokens': 45}\n"
     ]
    }
   ],
   "source": [
    "from flask import Flask, request, jsonify, render_template\n",
    "from langchain.chains import AnalyzeDocumentChain\n",
    "from langchain.chains.question_answering import load_qa_chain\n",
    "# from langchain.chat_models import ChatOpenAI\n",
    "from langchain_openai import ChatOpenAI\n",
    "from dotenv import load_dotenv\n",
    "import os\n",
    "\n",
    "# .env 파일에서 환경 변수 로드\n",
    "load_dotenv()\n",
    "\n",
    "# API_KEY 가져오기\n",
    "api_key = os.getenv('API_KEY')\n",
    "# print(api_key)\n",
    "# OpenAI API 키 설정\n",
    "os.environ['OPENAI_API_KEY'] = api_key\n",
    "\n",
    "# Flask 애플리케이션 인스턴스 초기화 및 생성\n",
    "# app = Flask(__name__)\n",
    "\n",
    "\n",
    "# ChatGPT 모델 설정\n",
    "# model = ChatOpenAI(model=\"gpt-3.5-turbo\")  # 또는 원하는 모델 선택\n",
    "model = ChatOpenAI(model=\"gpt-4\")  # 또는 원하는 모델 선택\n",
    "\n",
    "\n",
    "# print(response)\n",
    "response = model.invoke(\"한국말로 된 속담 하나 말해줘\")\n",
    "print(response)"
   ]
  }
 ],
 "metadata": {
  "kernelspec": {
   "display_name": "venv",
   "language": "python",
   "name": "python3"
  },
  "language_info": {
   "codemirror_mode": {
    "name": "ipython",
    "version": 3
   },
   "file_extension": ".py",
   "mimetype": "text/x-python",
   "name": "python",
   "nbconvert_exporter": "python",
   "pygments_lexer": "ipython3",
   "version": "3.12.3"
  }
 },
 "nbformat": 4,
 "nbformat_minor": 2
}
